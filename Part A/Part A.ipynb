{
  "cells": [
    {
      "cell_type": "code",
      "execution_count": 8,
      "metadata": {
        "colab": {
          "base_uri": "https://localhost:8080/"
        },
        "id": "HtBwjoY6HSqN",
        "outputId": "e93abae6-05c7-4b1e-9cf4-67567022852d"
      },
      "outputs": [
        {
          "name": "stdout",
          "output_type": "stream",
          "text": [
            "                              legId  searchDate  flightDate startingAirport  \\\n",
            "0  cc7ca757dcd0ff76b2f0b4eb37419886  2022-04-16  2022-04-17             ATL   \n",
            "1  398e2cd3e08b555a1f8c2113824474ca  2022-04-16  2022-04-17             ATL   \n",
            "2  12ace2050ae312b0223484a949eaf227  2022-04-16  2022-04-17             ATL   \n",
            "3  1122006b99c9a15118b2e469815555db  2022-04-16  2022-04-17             ATL   \n",
            "4  97a100c46442e1d44b9a347e07124f01  2022-04-16  2022-04-17             ATL   \n",
            "\n",
            "  destinationAirport fareBasisCode travelDuration  elapsedDays  \\\n",
            "0                CLT      QAA0JHES        PT5H52M            0   \n",
            "1                DTW      L0AIZNN1        PT3H46M            0   \n",
            "2                DTW      KA0NX0MC        PT8H45M            1   \n",
            "3                DTW      QA0NA0MC         PT8H9M            1   \n",
            "4                DTW      MA0QA0MQ        PT5H12M            0   \n",
            "\n",
            "   isBasicEconomy  isRefundable  ...  segmentsArrivalTimeEpochSeconds  \\\n",
            "0           False         False  ...           1650240420||1650252960   \n",
            "1           False         False  ...           1650238620||1650247260   \n",
            "2           False         False  ...           1650257940||1650282000   \n",
            "3           False         False  ...           1650256980||1650280740   \n",
            "4           False         False  ...           1650225540||1650239820   \n",
            "\n",
            "                              segmentsArrivalTimeRaw  \\\n",
            "0  2022-04-17T20:07:00.000-04:00||2022-04-17T23:3...   \n",
            "1  2022-04-17T19:37:00.000-04:00||2022-04-17T22:0...   \n",
            "2  2022-04-18T00:59:00.000-04:00||2022-04-18T07:4...   \n",
            "3  2022-04-18T00:43:00.000-04:00||2022-04-18T07:1...   \n",
            "4  2022-04-17T15:59:00.000-04:00||2022-04-17T19:5...   \n",
            "\n",
            "   segmentsArrivalAirportCode  segmentsDepartureAirportCode  \\\n",
            "0                    EWR||CLT                      ATL||EWR   \n",
            "1                    CLT||DTW                      ATL||CLT   \n",
            "2                    EWR||DTW                      ATL||EWR   \n",
            "3                    IND||DTW                      ATL||IND   \n",
            "4                    GSO||DTW                      ATL||GSO   \n",
            "\n",
            "                    segmentsAirlineName segmentsAirlineCode  \\\n",
            "0                        United||United              UA||UA   \n",
            "1  American Airlines||American Airlines              AA||AA   \n",
            "2                          Delta||Delta              DL||DL   \n",
            "3                          Delta||Delta              DL||DL   \n",
            "4                          Delta||Delta              DL||DL   \n",
            "\n",
            "                segmentsEquipmentDescription segmentsDurationInSeconds  \\\n",
            "0                Boeing 737-700||Embraer 170                8580||7440   \n",
            "1     Canadian Regional Jet 700||Airbus A319                4920||6360   \n",
            "2               Airbus A320||Airbus A220-100                7440||6000   \n",
            "3                Boeing 737-900||Airbus A319                5580||4140   \n",
            "4  Boeing 737-900||Canadair Regional Jet 900                4440||6120   \n",
            "\n",
            "  segmentsDistance segmentsCabinCode  \n",
            "0         762||545      coach||coach  \n",
            "1         228||505      coach||coach  \n",
            "2         762||485      coach||coach  \n",
            "3         434||241      coach||coach  \n",
            "4         306||463      coach||coach  \n",
            "\n",
            "[5 rows x 27 columns]\n"
          ]
        }
      ],
      "source": [
        "import pandas as pd\n",
        "import os\n",
        "\n",
        "data_path = \"..\\\\Dataset\\\\split_01.csv\"\n",
        "\n",
        "df = pd.read_csv(data_path)\n",
        "print(df.head())"
      ]
    },
    {
      "cell_type": "markdown",
      "metadata": {
        "id": "f5SBDSVeIFma"
      },
      "source": [
        "# (i) Dataset preprocessing\n"
      ]
    },
    {
      "cell_type": "markdown",
      "metadata": {
        "id": "tq-IHr7pjHtz"
      },
      "source": [
        "## **Task: Consider only non-stop flights for this part. You have to create a new dataset listing the distance, duration, airline, and airplane type for all non-stop flights. Add a new column called \" speed ,\" which is calculated by dividing the distance by the duration.**"
      ]
    },
    {
      "cell_type": "code",
      "execution_count": 9,
      "metadata": {
        "colab": {
          "base_uri": "https://localhost:8080/"
        },
        "id": "DBg5-v5_IP_O",
        "outputId": "cfd88023-cd0d-4a42-d180-87caa73e9faa"
      },
      "outputs": [
        {
          "data": {
            "text/plain": [
              "Index(['legId', 'searchDate', 'flightDate', 'startingAirport',\n",
              "       'destinationAirport', 'fareBasisCode', 'travelDuration', 'elapsedDays',\n",
              "       'isBasicEconomy', 'isRefundable', 'isNonStop', 'baseFare', 'totalFare',\n",
              "       'seatsRemaining', 'totalTravelDistance',\n",
              "       'segmentsDepartureTimeEpochSeconds', 'segmentsDepartureTimeRaw',\n",
              "       'segmentsArrivalTimeEpochSeconds', 'segmentsArrivalTimeRaw',\n",
              "       'segmentsArrivalAirportCode', 'segmentsDepartureAirportCode',\n",
              "       'segmentsAirlineName', 'segmentsAirlineCode',\n",
              "       'segmentsEquipmentDescription', 'segmentsDurationInSeconds',\n",
              "       'segmentsDistance', 'segmentsCabinCode'],\n",
              "      dtype='object')"
            ]
          },
          "execution_count": 9,
          "metadata": {},
          "output_type": "execute_result"
        }
      ],
      "source": [
        "df.columns"
      ]
    },
    {
      "cell_type": "markdown",
      "metadata": {
        "id": "eFunf9h9m9bi"
      },
      "source": [
        "Let us first drop all the rows whose data is not available for the fields that we are supposed to work on, that is NaN or null"
      ]
    },
    {
      "cell_type": "code",
      "execution_count": 10,
      "metadata": {},
      "outputs": [
        {
          "name": "stdout",
          "output_type": "stream",
          "text": [
            "   travelDuration  totalTravelDistance segmentsAirlineName  \\\n",
            "5         PT2H11M                762.0               Delta   \n",
            "9            PT5H               1943.0               Delta   \n",
            "13        PT1H55M                596.0   Frontier Airlines   \n",
            "15         PT2H6M                600.0               Delta   \n",
            "16        PT2H15M                600.0   American Airlines   \n",
            "\n",
            "   segmentsEquipmentDescription  \n",
            "5                   Airbus A320  \n",
            "9                Boeing 757-300  \n",
            "13                          NaN  \n",
            "15                  Airbus A321  \n",
            "16                  Embraer 175  \n"
          ]
        }
      ],
      "source": [
        "filtered_df = df[df['isNonStop'] == True]\n",
        "\n",
        "# Selecting the specified columns\n",
        "selected_columns_df = filtered_df[['travelDuration', 'totalTravelDistance', 'segmentsAirlineName', 'segmentsEquipmentDescription']]\n",
        "\n",
        "print(selected_columns_df.head())"
      ]
    },
    {
      "cell_type": "code",
      "execution_count": 11,
      "metadata": {
        "colab": {
          "base_uri": "https://localhost:8080/"
        },
        "id": "uBFE-Ol7m8-C",
        "outputId": "334cd08d-540d-41ac-d977-c859e9424877"
      },
      "outputs": [
        {
          "name": "stdout",
          "output_type": "stream",
          "text": [
            "Length before dropping rows: 1103397\n",
            "Length after dropping rows: 996418\n"
          ]
        },
        {
          "name": "stderr",
          "output_type": "stream",
          "text": [
            "C:\\Users\\kmakadia\\AppData\\Local\\Temp\\ipykernel_16592\\3765449914.py:2: SettingWithCopyWarning: \n",
            "A value is trying to be set on a copy of a slice from a DataFrame\n",
            "\n",
            "See the caveats in the documentation: https://pandas.pydata.org/pandas-docs/stable/user_guide/indexing.html#returning-a-view-versus-a-copy\n",
            "  selected_columns_df.dropna(inplace=True)\n"
          ]
        }
      ],
      "source": [
        "print(\"Length before dropping rows:\", len(selected_columns_df))\n",
        "selected_columns_df.dropna(inplace=True)\n",
        "print(\"Length after dropping rows:\", len(selected_columns_df))"
      ]
    },
    {
      "cell_type": "markdown",
      "metadata": {
        "id": "BMRz63v8RtXI"
      },
      "source": [
        "Parsing the duration into a numerical value"
      ]
    },
    {
      "cell_type": "code",
      "execution_count": 12,
      "metadata": {
        "colab": {
          "base_uri": "https://localhost:8080/"
        },
        "id": "WK-7ANBgJZhS",
        "outputId": "b70badab-81a5-49ef-da34-4c039a83151f"
      },
      "outputs": [
        {
          "name": "stdout",
          "output_type": "stream",
          "text": [
            "   travelDuration  totalTravelDistance segmentsAirlineName  \\\n",
            "5         PT2H11M                762.0               Delta   \n",
            "9            PT5H               1943.0               Delta   \n",
            "13        PT1H55M                596.0   Frontier Airlines   \n",
            "15         PT2H6M                600.0               Delta   \n",
            "16        PT2H15M                600.0   American Airlines   \n",
            "\n",
            "   segmentsEquipmentDescription  travelDuration_hours  \n",
            "5                   Airbus A320              2.183333  \n",
            "9                Boeing 757-300              5.000000  \n",
            "13                          NaN              1.916667  \n",
            "15                  Airbus A321              2.100000  \n",
            "16                  Embraer 175              2.250000  \n"
          ]
        }
      ],
      "source": [
        "import pandas as pd\n",
        "import re\n",
        "\n",
        "# Function to parse the travel duration string and convert it to hours\n",
        "# The function assumes the format is 'PTXHYM' where X is hours and Y is minutes\n",
        "def parse_duration(duration_str):\n",
        "    if pd.isna(duration_str):\n",
        "        return None\n",
        "    match = re.match(r'PT(?:(\\d+)H)?(?:(\\d+)M)?', duration_str)\n",
        "    if match:\n",
        "        hours = int(match.group(1)) if match.group(1) else 0\n",
        "        minutes = int(match.group(2)) if match.group(2) else 0\n",
        "        return hours + minutes / 60\n",
        "    return None\n",
        "\n",
        "selected_columns_df = filtered_df[['travelDuration', 'totalTravelDistance', 'segmentsAirlineName',\n",
        "                                   'segmentsEquipmentDescription']].copy()\n",
        "\n",
        "selected_columns_df['travelDuration_hours'] = selected_columns_df['travelDuration'].apply(parse_duration)\n",
        "print(selected_columns_df.head())\n"
      ]
    },
    {
      "cell_type": "markdown",
      "metadata": {
        "id": "2k9Ex22xRllv"
      },
      "source": [
        "Adding new column \"speed\" ( shows speed in miles/hr )"
      ]
    },
    {
      "cell_type": "code",
      "execution_count": 13,
      "metadata": {
        "colab": {
          "base_uri": "https://localhost:8080/"
        },
        "id": "PwEX6VqpJpNF",
        "outputId": "9877e3d0-1679-43b8-c074-564fef774411"
      },
      "outputs": [
        {
          "name": "stdout",
          "output_type": "stream",
          "text": [
            "   travelDuration  totalTravelDistance segmentsAirlineName  \\\n",
            "5         PT2H11M                762.0               Delta   \n",
            "9            PT5H               1943.0               Delta   \n",
            "13        PT1H55M                596.0   Frontier Airlines   \n",
            "15         PT2H6M                600.0               Delta   \n",
            "16        PT2H15M                600.0   American Airlines   \n",
            "\n",
            "   segmentsEquipmentDescription  travelDuration_hours       speed  \n",
            "5                   Airbus A320              2.183333  349.007634  \n",
            "9                Boeing 757-300              5.000000  388.600000  \n",
            "13                          NaN              1.916667  310.956522  \n",
            "15                  Airbus A321              2.100000  285.714286  \n",
            "16                  Embraer 175              2.250000  266.666667  \n"
          ]
        }
      ],
      "source": [
        "selected_columns_df.loc[:, 'speed'] = selected_columns_df['totalTravelDistance'] / selected_columns_df['travelDuration_hours']\n",
        "print(selected_columns_df.head())"
      ]
    },
    {
      "cell_type": "markdown",
      "metadata": {
        "id": "geulRMdOjPhC"
      },
      "source": [
        "## **Task:Many rows in your new dataset will be exactly identical. What should you do with them? Your goal in this part of the project is to check if there are differences in flight speeds across airplane types, airlines, and routes. Should you count repeated rows only once, or as many times as they appear? What if two rows are almost identical (e.g., two rows with the same airline, airplane, and route but slightly different durations or distances)? Should you use one, both, or their average? Make a choice and explain it.**"
      ]
    },
    {
      "cell_type": "markdown",
      "metadata": {
        "id": "VpeM1zTfYvLg"
      },
      "source": [
        "We first remove all exact duplicate rows from the dataset to eliminate redundant entries that provide no new information. Keeping such duplicates can artificially inflate the dataset, leading to biased statistical outcomes and an overrepresentation of certain flights. Additionally, we can also identify rows that share the same airline name and airplane type but differ slightly in distance and duration. These can be aggregated by averaging their speed, distance, and duration values. This approach helps reduce noise caused by minor real-world variations (such as weather or routing differences) and ensures a more accurate and representative analysis of typical flight speeds across different airlines and aircraft types."
      ]
    },
    {
      "cell_type": "code",
      "execution_count": 14,
      "metadata": {
        "colab": {
          "base_uri": "https://localhost:8080/"
        },
        "id": "qNg-MnBZXiIu",
        "outputId": "76484666-16f6-4277-c6ba-42610b504b34"
      },
      "outputs": [
        {
          "name": "stdout",
          "output_type": "stream",
          "text": [
            "  travelDuration  totalTravelDistance segmentsAirlineName  \\\n",
            "0        PT1H24M                339.0     Alaska Airlines   \n",
            "1        PT1H25M                339.0     Alaska Airlines   \n",
            "2        PT1H30M                339.0     Alaska Airlines   \n",
            "3        PT3H34M               1468.0     Alaska Airlines   \n",
            "4        PT3H50M               1468.0     Alaska Airlines   \n",
            "\n",
            "      segmentsEquipmentDescription  travelDuration_hours       speed  \n",
            "0  AIRBUS INDUSTRIE A321 SHARKLETS              1.400000  235.812325  \n",
            "1  AIRBUS INDUSTRIE A321 SHARKLETS              1.416667  235.812325  \n",
            "2  AIRBUS INDUSTRIE A321 SHARKLETS              1.500000  235.812325  \n",
            "3  AIRBUS INDUSTRIE A321 SHARKLETS              3.566667  397.272653  \n",
            "4  AIRBUS INDUSTRIE A321 SHARKLETS              3.833333  397.272653  \n",
            "Total rows after smoothing: 18682\n"
          ]
        }
      ],
      "source": [
        "import pandas as pd\n",
        "import numpy as np\n",
        "\n",
        "# Step 1: We remove the exact duplicates\n",
        "selected_columns_df_unique = selected_columns_df.drop_duplicates()\n",
        "\n",
        "# Step 2: Now, I manually defined \"slight variation\" thresholds, these are based on my understanding of \"slight variation\" and can be subjective.\n",
        "# You can adjust these thresholds based on your understanding of the data and what constitutes a \"slight variation\".\n",
        "DISTANCE_THRESHOLD = 50     # miles\n",
        "DURATION_THRESHOLD = 0.25   # hours (15 minutes)\n",
        "\n",
        "# Step 3: Now, I have sorted the data for stable grouping\n",
        "selected_columns_df_unique = selected_columns_df_unique.sort_values(\n",
        "    by=['segmentsAirlineName', 'segmentsEquipmentDescription', 'totalTravelDistance', 'travelDuration_hours']\n",
        ").reset_index(drop=True)\n",
        "\n",
        "# Step 4: Updating speeds with average speed for similar rows\n",
        "updated_speeds = selected_columns_df_unique['speed'].copy()\n",
        "visited = set()\n",
        "\n",
        "for i in range(len(selected_columns_df_unique)):\n",
        "    if i in visited:\n",
        "        continue\n",
        "\n",
        "    row = selected_columns_df_unique.iloc[i]\n",
        "\n",
        "    # Find similar rows (same airline + aircraft type, and similar distance OR duration)\n",
        "    similar_mask = (\n",
        "        (selected_columns_df_unique['segmentsAirlineName'] == row['segmentsAirlineName']) &\n",
        "        (selected_columns_df_unique['segmentsEquipmentDescription'] == row['segmentsEquipmentDescription']) &\n",
        "        (\n",
        "            (np.abs(selected_columns_df_unique['totalTravelDistance'] - row['totalTravelDistance']) <= DISTANCE_THRESHOLD) |\n",
        "            (np.abs(selected_columns_df_unique['travelDuration_hours'] - row['travelDuration_hours']) <= DURATION_THRESHOLD)\n",
        "        )\n",
        "    )\n",
        "\n",
        "    similar_indices = selected_columns_df_unique[similar_mask].index\n",
        "    avg_speed = selected_columns_df_unique.loc[similar_indices, 'speed'].mean()\n",
        "\n",
        "    # Set the average speed for all similar rows\n",
        "    updated_speeds.loc[similar_indices] = avg_speed\n",
        "\n",
        "    visited.update(similar_indices)\n",
        "\n",
        "# Step 5: Assign smoothed speed values back to the DataFrame\n",
        "selected_columns_df_unique['speed'] = updated_speeds\n",
        "\n",
        "print(selected_columns_df_unique.head())\n",
        "print(f\"Total rows after smoothing: {len(selected_columns_df_unique)}\")\n"
      ]
    },
    {
      "cell_type": "code",
      "execution_count": 15,
      "metadata": {
        "colab": {
          "base_uri": "https://localhost:8080/",
          "height": 211
        },
        "id": "EWM5cH73ii4n",
        "outputId": "0c5904eb-78dc-4bf6-b873-1012f11023e8"
      },
      "outputs": [
        {
          "name": "stdout",
          "output_type": "stream",
          "text": [
            "Saved preprocessed data to: ..\\Dataset\\preprocessed_data_part_a.csv\n"
          ]
        }
      ],
      "source": [
        "# Constructing the output file path, better to save the output than to re-run the code\n",
        "preprocessed_data_path = \"..\\\\Dataset\\\\preprocessed_data_part_a.csv\"\n",
        "\n",
        "# Save the DataFrame to CSV\n",
        "selected_columns_df_unique.to_csv(preprocessed_data_path, index=False)\n",
        "\n",
        "print(f\"Saved preprocessed data to: {preprocessed_data_path}\")"
      ]
    },
    {
      "cell_type": "markdown",
      "metadata": {
        "id": "kYQKAXDljYOO"
      },
      "source": [
        "## **Task: Since the dataset is very large you should choose at what stage of the analysis you should handle repetitions to keep the analysis tractable.**"
      ]
    },
    {
      "cell_type": "markdown",
      "metadata": {
        "id": "o5jHSRnqjbt8"
      },
      "source": [
        "To keep the analysis manageable with such a large dataset, it's best to handle repetitions early in the process, right after filtering and cleaning the necessary columns. Removing exact duplicates and averaging near-duplicate rows at this stage reduces the dataset size and prevents unnecessary repetition from affecting the results. This makes later steps like grouping, plotting, and statistical testing faster and more accurate."
      ]
    },
    {
      "cell_type": "markdown",
      "metadata": {
        "id": "xgd1JF3Ba7qc"
      },
      "source": [
        "# (ii) Examine the probability distribution of speeds."
      ]
    },
    {
      "cell_type": "markdown",
      "metadata": {
        "id": "3kn0zId3juR1"
      },
      "source": [
        "## **Task : Plot a histogram of the speeds. Comment on it.**"
      ]
    },
    {
      "cell_type": "markdown",
      "metadata": {
        "id": "W9cCY3ZYcGz-"
      },
      "source": [
        "The distribution of flight speeds in the dataset reveals several distinct patterns. While most commercial flights operate between 300 and 450 miles per hour — consistent with typical jet cruising speeds — there are noticeable peaks in the distribution suggesting the presence of multiple operational regimes, possibly reflecting different aircraft types or route distances. A small number of flights exhibit significantly lower average speeds, likely representing short-haul or regional operations where non-cruise phases (like taxiing) comprise a larger portion of the journey. The KDE curve further confirms the\n",
        "multimodal nature of the dataset, indicating that flight speed is not uniformly distributed but varies systematically across segments."
      ]
    },
    {
      "cell_type": "code",
      "execution_count": 16,
      "metadata": {
        "colab": {
          "base_uri": "https://localhost:8080/"
        },
        "id": "YB3EvVx3jzWe",
        "outputId": "2e689cfb-59c6-4f0a-df80-32beaaeda2b1"
      },
      "outputs": [
        {
          "name": "stdout",
          "output_type": "stream",
          "text": [
            "Successfully read preprocessed data.\n",
            "  travelDuration  totalTravelDistance segmentsAirlineName  \\\n",
            "0        PT1H24M                339.0     Alaska Airlines   \n",
            "1        PT1H25M                339.0     Alaska Airlines   \n",
            "2        PT1H30M                339.0     Alaska Airlines   \n",
            "3        PT3H34M               1468.0     Alaska Airlines   \n",
            "4        PT3H50M               1468.0     Alaska Airlines   \n",
            "\n",
            "      segmentsEquipmentDescription  travelDuration_hours       speed  \n",
            "0  AIRBUS INDUSTRIE A321 SHARKLETS              1.400000  235.812325  \n",
            "1  AIRBUS INDUSTRIE A321 SHARKLETS              1.416667  235.812325  \n",
            "2  AIRBUS INDUSTRIE A321 SHARKLETS              1.500000  235.812325  \n",
            "3  AIRBUS INDUSTRIE A321 SHARKLETS              3.566667  397.272653  \n",
            "4  AIRBUS INDUSTRIE A321 SHARKLETS              3.833333  397.272653  \n"
          ]
        }
      ],
      "source": [
        "import pandas as pd\n",
        "preprocessed_data_path = \"..\\\\Dataset\\\\preprocessed_data_part_a.csv\"\n",
        "\n",
        "# preprocessed_data_path =\"/content/preprocessed_data_part_a.txt\"\n",
        "\n",
        "preprocessed_df = pd.read_csv(preprocessed_data_path)\n",
        "print(\"Successfully read preprocessed data.\")\n",
        "print(preprocessed_df.head())"
      ]
    },
    {
      "cell_type": "code",
      "execution_count": 17,
      "metadata": {
        "colab": {
          "base_uri": "https://localhost:8080/",
          "height": 601
        },
        "id": "pPMrBQPra_Z4",
        "outputId": "336679f5-2ef9-4577-e05d-4b9dc1bfd1c8"
      },
      "outputs": [
        {
          "data": {
            "image/png": "[encoded data removed]",
            "text/plain": [
              "<Figure size 1200x600 with 1 Axes>"
            ]
          },
          "metadata": {},
          "output_type": "display_data"
        }
      ],
      "source": [
        "import matplotlib.pyplot as plt\n",
        "import seaborn as sns\n",
        "\n",
        "sns.set(style=\"whitegrid\")\n",
        "\n",
        "# Create the plot\n",
        "plt.figure(figsize=(12, 6))\n",
        "sns.histplot(preprocessed_df['speed'], bins=100, kde=True, color='red', edgecolor='black', stat='frequency')\n",
        "\n",
        "# Titles and labels\n",
        "plt.title('Distribution of Flight Speeds', fontsize=16)\n",
        "plt.xlabel('Speed (miles per hour)', fontsize=12)\n",
        "plt.ylabel('Frequency', fontsize=12)\n",
        "\n",
        "# Grid and layout\n",
        "plt.grid(True, linestyle='--', alpha=0.6)\n",
        "plt.tight_layout()\n",
        "\n",
        "plt.show()"
      ]
    },
    {
      "cell_type": "markdown",
      "metadata": {
        "id": "8iSHgd_OdXvZ"
      },
      "source": [
        "## **Task : Filter out the speeds for the airplane type Boeing 737-800. Do a K-S test to check whether it is normal with the sample mean and sample variance as the parameters of the Normal. Choose a threshold value of 0.05. Do the same for the speeds for airline Delta.**"
      ]
    },
    {
      "cell_type": "code",
      "execution_count": 18,
      "metadata": {
        "id": "OYgOo5O7GC9B"
      },
      "outputs": [],
      "source": [
        "from scipy.stats import norm\n",
        "from math import sqrt, exp\n",
        "import numpy as np\n",
        "\n",
        "def one_sample_ks_fixed(sample):\n",
        "\n",
        "    sample = np.sort(np.array(sample))\n",
        "    n = len(sample)\n",
        "    mean = np.mean(sample)\n",
        "    std = np.std(sample)\n",
        "\n",
        "    unique_vals = np.unique(sample)\n",
        "    d_stat = 0.0\n",
        "\n",
        "    for val in unique_vals: #dealing with repeated values\n",
        "        ecdf_minus = np.sum(sample < val) / n\n",
        "        ecdf_plus = np.sum(sample <= val) / n\n",
        "        cdf = norm.cdf(val, loc=mean, scale=std)\n",
        "\n",
        "        diff1 = abs(cdf - ecdf_minus)\n",
        "        diff2 = abs(ecdf_plus - cdf)\n",
        "        d_stat = max(d_stat, diff1, diff2)\n",
        "\n",
        "    return d_stat"
      ]
    },
    {
      "cell_type": "markdown",
      "metadata": {
        "id": "a2JJxVaCniTv"
      },
      "source": [
        "### Boeing 737-800"
      ]
    },
    {
      "cell_type": "code",
      "execution_count": 19,
      "metadata": {
        "colab": {
          "base_uri": "https://localhost:8080/"
        },
        "id": "s9uBMLtI4lIP",
        "outputId": "d64ea244-8709-4de1-d75b-49cee7dab644"
      },
      "outputs": [
        {
          "name": "stdout",
          "output_type": "stream",
          "text": [
            "=== K-S Test: Boeing 737-800 ===\n",
            "\n",
            "KS Statistic: 0.0968\n",
            "Given Threshold:  0.05\n",
            "Result: Reject the null hypothesis → Speed is NOT normally distributed.\n"
          ]
        }
      ],
      "source": [
        "# thershold value\n",
        "c = 0.05\n",
        "\n",
        "# --------- Boeing 737-800 ----------\n",
        "boeing_df = preprocessed_df[preprocessed_df['segmentsEquipmentDescription'] == 'Boeing 737-800']\n",
        "boeing_speeds = np.array(boeing_df['speed'])\n",
        "\n",
        "\n",
        "d = one_sample_ks_fixed(boeing_speeds)\n",
        "\n",
        "print(\"=== K-S Test: Boeing 737-800 ===\")\n",
        "print()\n",
        "print(f\"KS Statistic: {d:.4f}\")\n",
        "print(\"Given Threshold: \",c)\n",
        "if d > c:\n",
        "    print(\"Result: Reject the null hypothesis → Speed is NOT normally distributed.\")\n",
        "else:\n",
        "    print(\"Result: Fail to reject the null hypothesis → Speed MAY be normally distributed.\")"
      ]
    },
    {
      "cell_type": "markdown",
      "metadata": {
        "id": "Q5h_RU1hnf-P"
      },
      "source": [
        "### Delta Airlines"
      ]
    },
    {
      "cell_type": "code",
      "execution_count": 20,
      "metadata": {
        "colab": {
          "base_uri": "https://localhost:8080/"
        },
        "id": "dBm_0B4z-RGj",
        "outputId": "ae20daf8-01df-4e4e-9a59-be02790aa4a2"
      },
      "outputs": [
        {
          "name": "stdout",
          "output_type": "stream",
          "text": [
            "=== K-S Test: Delta Airlines ===\n",
            "\n",
            "KS Statistic: 0.0000\n",
            "Given Threshold:  0.05\n",
            "Result: Fail to reject the null hypothesis → Speed MAY be normally distributed.\n"
          ]
        }
      ],
      "source": [
        "# thershold value\n",
        "c = 0.05\n",
        "\n",
        "# --------- Delta Airlines ----------\n",
        "\n",
        "delta_df = preprocessed_df[preprocessed_df['segmentsAirlineName'] == 'Delta']\n",
        "delta_speeds = np.array(delta_df['speed'])\n",
        "\n",
        "d = one_sample_ks_fixed(delta_speeds)\n",
        "\n",
        "print(\"=== K-S Test: Delta Airlines ===\")\n",
        "print()\n",
        "print(f\"KS Statistic: {d:.4f}\")\n",
        "print(\"Given Threshold: \",c)\n",
        "if d>c:\n",
        "    print(\"Result: Reject the null hypothesis → Speed is NOT normally distributed.\")\n",
        "else:\n",
        "    print(\"Result: Fail to reject the null hypothesis → Speed MAY be normally distributed.\")"
      ]
    },
    {
      "cell_type": "markdown",
      "metadata": {
        "id": "FACVqFjQoEI4"
      },
      "source": [
        "## **Task: Using the 2-sample K-S test and the Permutation test check if the probability distributions of speeds for the Boeing 737-800 and Boeing 737-900 airplanes differ or are same. Do the same for the Delta vs American Airlines flights.**"
      ]
    },
    {
      "cell_type": "code",
      "execution_count": null,
      "metadata": {
        "id": "9NnuTcqLCTh7"
      },
      "outputs": [],
      "source": [
        "def two_sample_ks_test(x, y):\n",
        "\n",
        "    x = np.array(x)\n",
        "    y = np.array(y)\n",
        "\n",
        "    # Ensure x is the smaller array\n",
        "    if len(x) > len(y):\n",
        "        x, y = y, x\n",
        "\n",
        "    sorted_x = np.sort(x)\n",
        "    sorted_y = np.sort(y)\n",
        "\n",
        "    n = len(sorted_x)\n",
        "    m = len(sorted_y)\n",
        "    d_stat = 0.0\n",
        "\n",
        "    for i in range(n):\n",
        "        e = sorted_x[i]\n",
        "\n",
        "        # ECDF for x\n",
        "        x_minus = i / n\n",
        "        x_plus = (i + 1) / n\n",
        "\n",
        "        # ECDF for y\n",
        "        y_indices = np.where(sorted_y == e)[0]\n",
        "\n",
        "        if len(y_indices) > 0:\n",
        "\n",
        "            #If element is in y, calculate plus and minus values separately\n",
        "            first_idx = y_indices[0]\n",
        "            last_idx = y_indices[-1]\n",
        "\n",
        "            y_minus = first_idx / m\n",
        "            y_plus = (last_idx + 1) / m\n",
        "        else:     \n",
        "            less_than_e = sorted_y[sorted_y < e]\n",
        "\n",
        "            if len(less_than_e) == 0:#i.e. first element\n",
        "                y_minus = y_plus = 0.0\n",
        "\n",
        "            else:\n",
        "                idx = np.searchsorted(sorted_y, less_than_e[-1], side='right')\n",
        "                y_minus = y_plus = idx / m\n",
        "\n",
        "        diff1 = abs(x_minus - y_minus)\n",
        "        diff2 = abs(x_plus - y_plus)\n",
        "\n",
        "        # Updating max distance\n",
        "        d_stat = max(d_stat, diff1, diff2)\n",
        "\n",
        "    return d_stat"
      ]
    },
    {
      "cell_type": "code",
      "execution_count": 22,
      "metadata": {
        "id": "oZvGQLoFdQ_u"
      },
      "outputs": [],
      "source": [
        "def permutation_test(x, y, num_permutations=10000):\n",
        "    observed_diff = abs(np.mean(x) - np.mean(y))\n",
        "    combined = np.concatenate([x, y])\n",
        "    count = 0\n",
        "    for _ in range(num_permutations):\n",
        "        np.random.shuffle(combined)\n",
        "        new_x = combined[:len(x)]\n",
        "        new_y = combined[len(x):]\n",
        "        new_diff = abs(np.mean(new_x) - np.mean(new_y))\n",
        "        if new_diff > observed_diff:\n",
        "            count += 1\n",
        "    return count / num_permutations"
      ]
    },
    {
      "cell_type": "markdown",
      "metadata": {
        "id": "rn6MEs6MoLnj"
      },
      "source": [
        "### Boeing 737-800 and Boeing 737-900"
      ]
    },
    {
      "cell_type": "code",
      "execution_count": 23,
      "metadata": {
        "colab": {
          "base_uri": "https://localhost:8080/"
        },
        "id": "K4brS9Nv_NQi",
        "outputId": "62163f4a-f897-4906-f476-d4a1c17badf3"
      },
      "outputs": [
        {
          "name": "stdout",
          "output_type": "stream",
          "text": [
            "=== Two-Sample K-S Test: Boeing Airplanes ===\n",
            "\n",
            "KS Statistic: 0.3129\n",
            "Given Threshold:  0.05\n",
            "Result: Reject the null hypothesis →  Speeds do not belong to the same distribution.\n",
            "\n",
            "=== Permutation Test: Boeing Airplanes ===\n",
            "\n",
            "P-value: 0.0000\n",
            "Result: Distributions are statistically different (Reject H0).\n"
          ]
        }
      ],
      "source": [
        "c= 0.05 #thershold value\n",
        "\n",
        "speeds_800 = preprocessed_df[preprocessed_df['segmentsEquipmentDescription'] == 'Boeing 737-800']['speed']\n",
        "speeds_900 = preprocessed_df[preprocessed_df['segmentsEquipmentDescription'] == 'Boeing 737-900']['speed']\n",
        "\n",
        "speeds_800 = speeds_800.replace([np.inf, -np.inf], np.nan).dropna()\n",
        "speeds_900 = speeds_900.replace([np.inf, -np.inf], np.nan).dropna()\n",
        "\n",
        "# # -------------------------------\n",
        "# # 1. Two-Sample K-S Test\n",
        "# # -------------------------------\n",
        "\n",
        "print(\"=== Two-Sample K-S Test: Boeing Airplanes ===\")\n",
        "print()\n",
        "\n",
        "d = two_sample_ks_test(speeds_800, speeds_900)\n",
        "\n",
        "print(f\"KS Statistic: {d:.4f}\")\n",
        "print(\"Given Threshold: \",c)\n",
        "if d > c:\n",
        "    print(\"Result: Reject the null hypothesis →  Speeds do not belong to the same distribution.\")\n",
        "else:\n",
        "    print(\"Result: Fail to reject the null hypothesis →  Speeds MAY belong to the same distribution.\")\n",
        "\n",
        "\n",
        "# -------------------------------\n",
        "# 2. Permutation Test\n",
        "# -------------------------------\n",
        "\n",
        "\n",
        "print(\"\\n=== Permutation Test: Boeing Airplanes ===\")\n",
        "print()\n",
        "\n",
        "perm_pval = permutation_test(speeds_800.values, speeds_900.values)\n",
        "\n",
        "print(f\"P-value: {perm_pval:.4f}\")\n",
        "if perm_pval < 0.05:\n",
        "    print(\"Result: Distributions are statistically different (Reject H0).\")\n",
        "else:\n",
        "    print(\"Result: Distributions may be the same (Fail to reject H0).\")"
      ]
    },
    {
      "cell_type": "markdown",
      "metadata": {
        "id": "YmCoVl3RoOJs"
      },
      "source": [
        "### Delta vs American Airlines flights"
      ]
    },
    {
      "cell_type": "code",
      "execution_count": 24,
      "metadata": {
        "colab": {
          "base_uri": "https://localhost:8080/"
        },
        "id": "7rnoOyjQMPDs",
        "outputId": "5d5f5c41-c5dc-4f9a-9ca0-33ff09e9bf74"
      },
      "outputs": [
        {
          "name": "stdout",
          "output_type": "stream",
          "text": [
            "=== Two-Sample K-S Test: Delta and American Flights ===\n",
            "\n",
            "KS Statistic: 0.1559\n",
            "Given Threshold:  0.05\n",
            "Result: Reject the null hypothesis → Speeds do not belong to the same distribution.\n",
            "\n",
            "=== Permutation Test: Delta and American Flights ===\n",
            "P-value: 0.0000\n",
            "Result: Distributions are statistically different (Reject H0).\n"
          ]
        }
      ],
      "source": [
        "c= 0.05 #thershold value\n",
        "\n",
        "delta_speeds = preprocessed_df[preprocessed_df['segmentsAirlineName'].str.contains(\"Delta\", case=False, na=False)]['speed']\n",
        "american_speeds = preprocessed_df[preprocessed_df['segmentsAirlineName'].str.contains(\"American Airlines\", case=False, na=False)]['speed']\n",
        "\n",
        "delta_speeds = delta_speeds.replace([np.inf, -np.inf], np.nan).dropna()\n",
        "american_speeds = american_speeds.replace([np.inf, -np.inf], np.nan).dropna()\n",
        "\n",
        "print(\"=== Two-Sample K-S Test: Delta and American Flights ===\")\n",
        "print()\n",
        "\n",
        "d = two_sample_ks_test(delta_speeds, american_speeds)\n",
        "\n",
        "# # -------------------------------\n",
        "# # 1. Two-Sample K-S Test\n",
        "# # -------------------------------\n",
        "\n",
        "print(f\"KS Statistic: {d:.4f}\")\n",
        "print(\"Given Threshold: \",c)\n",
        "if d > c:\n",
        "    print(\"Result: Reject the null hypothesis → Speeds do not belong to the same distribution.\")\n",
        "else:\n",
        "    print(\"Result: Fail to reject the null hypothesis → Speeds MAY belong to the same distribution.\")\n",
        "\n",
        "# -------------------------------\n",
        "# 2. Permutation Test\n",
        "# -------------------------------\n",
        "\n",
        "perm_pval = permutation_test(delta_speeds.values, american_speeds.values)\n",
        "print(\"\\n=== Permutation Test: Delta and American Flights ===\")\n",
        "print(f\"P-value: {perm_pval:.4f}\")\n",
        "if perm_pval < 0.05:\n",
        "    print(\"Result: Distributions are statistically different (Reject H0).\")\n",
        "else:\n",
        "    print(\"Result: Distributions may be the same (Fail to reject H0).\")\n"
      ]
    },
    {
      "cell_type": "markdown",
      "metadata": {
        "id": "zxasWY4etJbi"
      },
      "source": [
        "# (iii) Compare speeds for airplane types, airlines, and routes."
      ]
    },
    {
      "cell_type": "markdown",
      "metadata": {
        "id": "05NWxWZ9tOpF"
      },
      "source": [
        "## **Task: Consider the following 4 airplane types: Boeing 737-800, Boeing 737-900, Airbus A321, Airbus A320. For each pair in the above (so 6 pairs) , perform hypothesis tests to check if the speeds between the two airplane types are different. Compare using means and use two independent sample Wald’s, Z-, and T-tests. For Z-test, use the sample variance as the true variance. For Wald’s, use sample mean as the estimator. For all tests, perform the tests assuming all required assumptions hold. Then, comment on whether these assumptions actually seem to hold or not. For the critical value to compare against, use appropriate z-scores everywhere (even for the T-test).**"
      ]
    },
    {
      "cell_type": "markdown",
      "metadata": {
        "id": "MD_lHd7_tTSI"
      },
      "source": [
        "### Common Setup"
      ]
    },
    {
      "cell_type": "code",
      "execution_count": null,
      "metadata": {
        "id": "t2Ib9VSnta-d"
      },
      "outputs": [],
      "source": [
        "# Select 4 airplane types\n",
        "types = ['Boeing 737-800', 'Boeing 737-900', 'Airbus A320', 'Airbus A321']\n",
        "\n",
        "speed_data = {}\n",
        "for t in types:\n",
        "    speeds = preprocessed_df[preprocessed_df['segmentsEquipmentDescription'] == t]['speed']\n",
        "    speeds = speeds.replace([np.inf, -np.inf], np.nan).dropna()\n",
        "    speed_data[t] = speeds\n",
        "\n",
        "# pairs\n",
        "pairs = [\n",
        "    ('Boeing 737-800', 'Boeing 737-900'),\n",
        "    ('Boeing 737-800', 'Airbus A320'),\n",
        "    ('Boeing 737-800', 'Airbus A321'),\n",
        "    ('Boeing 737-900', 'Airbus A320'),\n",
        "    ('Boeing 737-900', 'Airbus A321'),\n",
        "    ('Airbus A320', 'Airbus A321')\n",
        "]\n",
        "\n",
        "z_critical = norm.ppf(1 - 0.05/2)  # two-tailed test at alpha = 0.05"
      ]
    },
    {
      "cell_type": "markdown",
      "metadata": {
        "id": "O7o2Q6oMtg6m"
      },
      "source": [
        "### Wald’s Test"
      ]
    },
    {
      "cell_type": "code",
      "execution_count": 26,
      "metadata": {
        "colab": {
          "base_uri": "https://localhost:8080/"
        },
        "id": "Lyv_0fiptrFC",
        "outputId": "081e39b6-58ac-447e-b8f8-a78689ac14cb"
      },
      "outputs": [
        {
          "name": "stdout",
          "output_type": "stream",
          "text": [
            "=== Wald's Test ===\n",
            "Boeing 737-800 vs Boeing 737-900 → Wald Stat: -9.5705, Result: Different\n",
            "Boeing 737-800 vs Airbus A320 → Wald Stat: 11.5926, Result: Different\n",
            "Boeing 737-800 vs Airbus A321 → Wald Stat: -10.7469, Result: Different\n",
            "Boeing 737-900 vs Airbus A320 → Wald Stat: 17.4143, Result: Different\n",
            "Boeing 737-900 vs Airbus A321 → Wald Stat: 0.6792, Result: Same\n",
            "Airbus A320 vs Airbus A321 → Wald Stat: -19.2629, Result: Different\n"
          ]
        }
      ],
      "source": [
        "print(\"=== Wald's Test ===\")\n",
        "for a, b in pairs:\n",
        "    x = speed_data[a]\n",
        "    y = speed_data[b]\n",
        "    diff = np.mean(x) - np.mean(y)\n",
        "    pooled_var = np.var(x, ddof=1)/len(x) + np.var(y, ddof=1)/len(y)\n",
        "    wald_stat = diff / np.sqrt(pooled_var)\n",
        "    result = \"Different\" if abs(wald_stat) > z_critical else \"Same\"\n",
        "    print(f\"{a} vs {b} → Wald Stat: {wald_stat:.4f}, Result: {result}\")"
      ]
    },
    {
      "cell_type": "markdown",
      "metadata": {
        "id": "FWgZWjuk-mEe"
      },
      "source": [
        "#### Assumptions"
      ]
    },
    {
      "cell_type": "code",
      "execution_count": null,
      "metadata": {
        "colab": {
          "base_uri": "https://localhost:8080/"
        },
        "id": "IB4YmKp0-mEe",
        "outputId": "333eb0cf-7ee2-4479-fe54-1d291b268423"
      },
      "outputs": [
        {
          "name": "stdout",
          "output_type": "stream",
          "text": [
            "=== Summary of Data for Wald’s Test Assumption Check ===\n",
            "Boeing 737-800: Sample Size = 2532, Variance = 2143.13\n",
            "Boeing 737-900: Sample Size = 1295, Variance = 3332.27\n",
            "Airbus A320: Sample Size = 2034, Variance = 4118.11\n",
            "Airbus A321: Sample Size = 2378, Variance = 3479.99\n",
            "\n",
            "All groups have sufficiently large sample sizes (n > 30), finite variances, and no known dependencies.\n",
            "Therefore, the assumptions of Wald’s test — particularly asymptotic normality of the estimator — hold true.\n"
          ]
        }
      ],
      "source": [
        "from scipy.stats import norm\n",
        "\n",
        "types = ['Boeing 737-800', 'Boeing 737-900', 'Airbus A320', 'Airbus A321']\n",
        "\n",
        "speed_data = {}\n",
        "for t in types:\n",
        "    speeds = preprocessed_df[preprocessed_df['segmentsEquipmentDescription'] == t]['speed']\n",
        "    speeds = speeds.replace([np.inf, -np.inf], np.nan).dropna()\n",
        "    speed_data[t] = speeds\n",
        "\n",
        "print(\"=== Summary of Data for Wald’s Test Assumption Check ===\")\n",
        "for t in types:\n",
        "    length = len(speed_data[t])\n",
        "    variance = np.var(speed_data[t], ddof=1)\n",
        "    print(f\"{t}: Sample Size = {length}, Variance = {variance:.2f}\")\n",
        "\n",
        "# Justification\n",
        "print(\"\\nAll groups have sufficiently large sample sizes (n > 30), finite variances, and no known dependencies.\")\n",
        "print(\"Therefore, the assumptions of Wald’s test — particularly asymptotic normality of the estimator — hold true.\")"
      ]
    },
    {
      "cell_type": "markdown",
      "metadata": {
        "id": "8yl4VWd2tmJh"
      },
      "source": [
        "### Z-Test"
      ]
    },
    {
      "cell_type": "code",
      "execution_count": 28,
      "metadata": {
        "colab": {
          "base_uri": "https://localhost:8080/"
        },
        "id": "UAtgocQstvlH",
        "outputId": "c85f8a46-1217-4a79-9ae4-8760a83627c0"
      },
      "outputs": [
        {
          "name": "stdout",
          "output_type": "stream",
          "text": [
            "=== Z-Test ===\n",
            "Boeing 737-800 vs Boeing 737-900 → Z Stat: -9.5738, Result: Different\n",
            "Boeing 737-800 vs Airbus A320 → Z Stat: 11.5953, Result: Different\n",
            "Boeing 737-800 vs Airbus A321 → Z Stat: -10.7491, Result: Different\n",
            "Boeing 737-900 vs Airbus A320 → Z Stat: 17.4199, Result: Different\n",
            "Boeing 737-900 vs Airbus A321 → Z Stat: 0.6795, Result: Same\n",
            "Airbus A320 vs Airbus A321 → Z Stat: -19.2673, Result: Different\n"
          ]
        }
      ],
      "source": [
        "print(\"=== Z-Test ===\")\n",
        "for a, b in pairs:\n",
        "    x = speed_data[a]\n",
        "    y = speed_data[b]\n",
        "    mean_diff = np.mean(x) - np.mean(y)\n",
        "    var_x = np.var(x, ddof=0)  # population variance\n",
        "    var_y = np.var(y, ddof=0)\n",
        "    se = np.sqrt(var_x / len(x) + var_y / len(y))\n",
        "    z_stat = mean_diff / se\n",
        "    result = \"Different\" if abs(z_stat) > z_critical else \"Same\"\n",
        "    print(f\"{a} vs {b} → Z Stat: {z_stat:.4f}, Result: {result}\")"
      ]
    },
    {
      "cell_type": "markdown",
      "metadata": {
        "id": "CEH5IXzC-mEf"
      },
      "source": [
        "#### Assumptions"
      ]
    },
    {
      "cell_type": "markdown",
      "metadata": {
        "id": "xnJot--D-mEf"
      },
      "source": [
        "Based on the Z-test assumption checks for the selected airplane types—Boeing 737-800, Boeing 737-900, Airbus A320, and Airbus A321—we confirmed that the sample size for each group is greater than 30, which satisfies the condition for the Central Limit Theorem to apply. The variances for all groups are finite and non-zero, and we use the sample variance as the known population variance in the Z-test. Therefore, the assumptions of the Z-test hold true for all six airplane type pairs being analyzed."
      ]
    },
    {
      "cell_type": "markdown",
      "metadata": {
        "id": "9z9zqNuotoau"
      },
      "source": [
        "### T-Test"
      ]
    },
    {
      "cell_type": "code",
      "execution_count": 29,
      "metadata": {
        "colab": {
          "base_uri": "https://localhost:8080/"
        },
        "id": "u3A0mwsKTJ86",
        "outputId": "ff0b8ef2-bee0-48ec-a99e-cd48a4aaf6a4"
      },
      "outputs": [
        {
          "name": "stdout",
          "output_type": "stream",
          "text": [
            "=== T-Test ===\n",
            "Boeing 737-800 vs Boeing 737-900 → T Stat: -9.5705, Result: Different\n",
            "Boeing 737-800 vs Airbus A320 → T Stat: 11.5926, Result: Different\n",
            "Boeing 737-800 vs Airbus A321 → T Stat: -10.7469, Result: Different\n",
            "Boeing 737-900 vs Airbus A320 → T Stat: 17.4143, Result: Different\n",
            "Boeing 737-900 vs Airbus A321 → T Stat: 0.6792, Result: Same\n",
            "Airbus A320 vs Airbus A321 → T Stat: -19.2629, Result: Different\n"
          ]
        }
      ],
      "source": [
        "print(\"=== T-Test ===\")\n",
        "for a, b in pairs:\n",
        "    x = speed_data[a]\n",
        "    y = speed_data[b]\n",
        "\n",
        "    n=len(x)\n",
        "    m=len(y)\n",
        "\n",
        "    mean_x = np.mean(x)\n",
        "    mean_y = np.mean(y)\n",
        "\n",
        "    var_x = np.var(x, ddof=1)\n",
        "    var_y = np.var(y, ddof=1)\n",
        "\n",
        "    se = sqrt((var_x / n) + (var_y / m))\n",
        "    t_stat = (mean_x - mean_y) / se\n",
        "\n",
        "    z_from_t = norm.ppf(1 - 0.05/2)  # still use z-critical as per instructions\n",
        "    result = \"Different\" if abs(t_stat) > z_from_t else \"Same\"\n",
        "    print(f\"{a} vs {b} → T Stat: {t_stat:.4f}, Result: {result}\")"
      ]
    },
    {
      "cell_type": "markdown",
      "metadata": {
        "id": "ieOKBd1FDroC"
      },
      "source": [
        "#### Assumptions"
      ]
    },
    {
      "cell_type": "markdown",
      "metadata": {
        "id": "mEt6i3xLDtL5"
      },
      "source": [
        "The sample size for each of the selected airlines—Boeing 737-800, Boeing 737-900, Airbus A320, and Airbus A321—is greater than 30 as shown previously, which satisfies the requirement for the Central Limit Theorem to apply. Thus normality is justified even though the values are not strictly normal. Variance is finite and calculated using corrected sample variance as required for the T-test.\n",
        "\n",
        "Therefore, all requirements for a T-Test of independence and normality are satisfied."
      ]
    },
    {
      "cell_type": "markdown",
      "metadata": {
        "id": "hHzAxnxjxvJ4"
      },
      "source": [
        "## **Task: Repeat the same tests for the following pairs of airlines : American Airlines and Delta, Delta and Alaska Airlines, JetBlue Airlines and Delta.**"
      ]
    },
    {
      "cell_type": "markdown",
      "metadata": {
        "id": "6AJ_TpcVxzTQ"
      },
      "source": [
        "### Common Setup"
      ]
    },
    {
      "cell_type": "code",
      "execution_count": null,
      "metadata": {
        "id": "7YfDGQJux-g3"
      },
      "outputs": [],
      "source": [
        "# Define airlines\n",
        "airlines = [\"American Airlines\", \"Delta\", \"Alaska Airlines\", \"JetBlue Airways\"]\n",
        "\n",
        "# Extract and clean\n",
        "airline_speeds = {}\n",
        "for airline in airlines:\n",
        "    speeds = preprocessed_df[preprocessed_df['segmentsAirlineName'] == airline]['speed']\n",
        "    speeds = speeds.replace([np.inf, -np.inf], np.nan).dropna()\n",
        "    airline_speeds[airline] = speeds\n",
        "\n",
        "# pairs\n",
        "airline_pairs = [\n",
        "    (\"American Airlines\", \"Delta\"),\n",
        "    (\"Delta\", \"Alaska Airlines\"),\n",
        "    (\"JetBlue Airways\", \"Delta\")\n",
        "]\n",
        "\n",
        "# Critical z-value for 2-sided test at α = 0.05\n",
        "z_critical = norm.ppf(1 - 0.05/2)"
      ]
    },
    {
      "cell_type": "markdown",
      "metadata": {
        "id": "74y8ONGMx1Cu"
      },
      "source": [
        "### Wald's Test"
      ]
    },
    {
      "cell_type": "code",
      "execution_count": 31,
      "metadata": {
        "colab": {
          "base_uri": "https://localhost:8080/"
        },
        "id": "RXJtQhLeyjEe",
        "outputId": "2ef712fc-0833-4364-8f39-6c033b53d13b"
      },
      "outputs": [
        {
          "name": "stdout",
          "output_type": "stream",
          "text": [
            "=== Wald’s Test ===\n",
            "American Airlines vs Delta → Wald Stat: 7.9572, Result: Different\n",
            "Delta vs Alaska Airlines → Wald Stat: -14.0566, Result: Different\n",
            "JetBlue Airways vs Delta → Wald Stat: 2.4662, Result: Different\n"
          ]
        }
      ],
      "source": [
        "print(\"=== Wald’s Test ===\")\n",
        "for a, b in airline_pairs:\n",
        "    x = airline_speeds[a]\n",
        "    y = airline_speeds[b]\n",
        "    diff = np.mean(x) - np.mean(y)\n",
        "    pooled_var = np.var(x, ddof=1)/len(x) + np.var(y, ddof=1)/len(y)\n",
        "    wald_stat = diff / np.sqrt(pooled_var)\n",
        "    result = \"Different\" if abs(wald_stat) > z_critical else \"Same\"\n",
        "    print(f\"{a} vs {b} → Wald Stat: {wald_stat:.4f}, Result: {result}\")"
      ]
    },
    {
      "cell_type": "markdown",
      "metadata": {
        "id": "lpU609rT-mEg"
      },
      "source": [
        "#### Assumptions"
      ]
    },
    {
      "cell_type": "code",
      "execution_count": null,
      "metadata": {
        "colab": {
          "base_uri": "https://localhost:8080/"
        },
        "id": "tpFbiYiw-mEg",
        "outputId": "1ed97694-eeec-48ee-97a2-f3a7ee09cfd6"
      },
      "outputs": [
        {
          "name": "stdout",
          "output_type": "stream",
          "text": [
            "=== Summary of Data for Wald’s Test Assumption Check (Airlines) ===\n",
            "American Airlines: Sample Size = 4783, Variance = 5449.04\n",
            "Delta: Sample Size = 3951, Variance = 5210.93\n",
            "Alaska Airlines: Sample Size = 372, Variance = 5286.77\n",
            "JetBlue Airways: Sample Size = 2433, Variance = 6162.57\n",
            "\n",
            "Each airline has a large enough sample size (n > 30) and finite variance.\n",
            "This supports the key assumptions of Wald’s test: asymptotic normality and finite standard error.\n",
            "Thus, Wald’s test is applicable to all three airline pairs.\n"
          ]
        }
      ],
      "source": [
        "# Define airline names\n",
        "airlines = [\"American Airlines\", \"Delta\", \"Alaska Airlines\", \"JetBlue Airways\"]\n",
        "\n",
        "airline_speeds = {}\n",
        "for airline in airlines:\n",
        "    speeds = preprocessed_df[preprocessed_df['segmentsAirlineName'] == airline]['speed']\n",
        "    speeds = speeds.replace([np.inf, -np.inf], np.nan).dropna()\n",
        "    airline_speeds[airline] = speeds\n",
        "\n",
        "# sample size and variance for each airline\n",
        "print(\"=== Summary of Data for Wald’s Test Assumption Check (Airlines) ===\")\n",
        "for airline in airlines:\n",
        "    size = len(airline_speeds[airline])\n",
        "    variance = np.var(airline_speeds[airline], ddof=1)\n",
        "    print(f\"{airline}: Sample Size = {size}, Variance = {variance:.2f}\")\n",
        "\n",
        "# Final justification\n",
        "print(\"\\nEach airline has a large enough sample size (n > 30) and finite variance.\")\n",
        "print(\"This supports the key assumptions of Wald’s test: asymptotic normality and finite standard error.\")\n",
        "print(\"Thus, Wald’s test is applicable to all three airline pairs.\")"
      ]
    },
    {
      "cell_type": "markdown",
      "metadata": {
        "id": "xmzlXaicx4KX"
      },
      "source": [
        "### Z-Test"
      ]
    },
    {
      "cell_type": "code",
      "execution_count": 33,
      "metadata": {
        "colab": {
          "base_uri": "https://localhost:8080/"
        },
        "id": "E7HoAbWEylha",
        "outputId": "62003873-781b-4ea7-81ac-ce2464533d4e"
      },
      "outputs": [
        {
          "name": "stdout",
          "output_type": "stream",
          "text": [
            "=== Z-Test ===\n",
            "American Airlines vs Delta → Z Stat: 7.9582, Result: Different\n",
            "Delta vs Alaska Airlines → Z Stat: -14.0741, Result: Different\n",
            "JetBlue Airways vs Delta → Z Stat: 2.4666, Result: Different\n"
          ]
        }
      ],
      "source": [
        "print(\"=== Z-Test ===\")\n",
        "for a, b in airline_pairs:\n",
        "    x = airline_speeds[a]\n",
        "    y = airline_speeds[b]\n",
        "    mean_diff = np.mean(x) - np.mean(y)\n",
        "    var_x = np.var(x, ddof=0)  # population variance\n",
        "    var_y = np.var(y, ddof=0)\n",
        "    se = np.sqrt(var_x / len(x) + var_y / len(y))\n",
        "    z_stat = mean_diff / se\n",
        "    result = \"Different\" if abs(z_stat) > z_critical else \"Same\"\n",
        "    print(f\"{a} vs {b} → Z Stat: {z_stat:.4f}, Result: {result}\")"
      ]
    },
    {
      "cell_type": "markdown",
      "metadata": {
        "id": "iyF2CGs7-mEg"
      },
      "source": [
        "#### Assumptions"
      ]
    },
    {
      "cell_type": "markdown",
      "metadata": {
        "id": "d0JhXdDn-mEh"
      },
      "source": [
        "Based on the Z-test assumption checks, we observed that the sample size for each of the selected airlines—American Airlines, Delta, Alaska Airlines, and JetBlue Airways—is greater than 30, which satisfies the requirement for the Central Limit Theorem to apply. Additionally, the variances for each group are finite and non-zero, and in the Z-test we use the sample variance as an approximation of the known population variance. These conditions fulfill the key assumptions of the Z-test: known variance (approximated) and sufficiently large sample sizes to ensure normality of the sampling distribution. Therefore, the Z-test assumptions hold true for all airline pairs under comparison.\n"
      ]
    },
    {
      "cell_type": "markdown",
      "metadata": {
        "id": "ku_mgXO4x7NQ"
      },
      "source": [
        "### T-Test"
      ]
    },
    {
      "cell_type": "code",
      "execution_count": 34,
      "metadata": {
        "colab": {
          "base_uri": "https://localhost:8080/"
        },
        "id": "mj1s4Fgnymo7",
        "outputId": "0801ce2d-4da0-4056-e1f0-ec19166a4db2"
      },
      "outputs": [
        {
          "name": "stdout",
          "output_type": "stream",
          "text": [
            "=== T-Test ===\n",
            "American Airlines vs Delta → T Stat: 7.9572, Result: Different\n",
            "Delta vs Alaska Airlines → T Stat: -14.0566, Result: Different\n",
            "JetBlue Airways vs Delta → T Stat: 2.4662, Result: Different\n"
          ]
        }
      ],
      "source": [
        "print(\"=== T-Test ===\")\n",
        "for a, b in airline_pairs:\n",
        "    x = airline_speeds[a]\n",
        "    y = airline_speeds[b]\n",
        "\n",
        "    n=len(x)\n",
        "    m=len(y)\n",
        "    mean_x = np.mean(x)\n",
        "    mean_y = np.mean(y)\n",
        "\n",
        "    var_x = np.var(x, ddof=1)\n",
        "    var_y = np.var(y, ddof=1)\n",
        "    se = sqrt((var_x / n) + (var_y / m))\n",
        "    t_stat = (mean_x - mean_y) / se\n",
        "\n",
        "    result = \"Different\" if abs(t_stat) > z_critical else \"Same\"\n",
        "    print(f\"{a} vs {b} → T Stat: {t_stat:.4f}, Result: {result}\")"
      ]
    },
    {
      "cell_type": "markdown",
      "metadata": {
        "id": "-ntou-AhCGZd"
      },
      "source": [
        "#### Assumptions"
      ]
    },
    {
      "cell_type": "markdown",
      "metadata": {
        "id": "kM_4KqkJCXbt"
      },
      "source": [
        "The sample size for each of the selected airlines—American Airlines, Delta, Alaska Airlines, and JetBlue Airways—is greater than 30 as shown previously, which satisfies the requirement for the Central Limit Theorem to apply. Thus normality is justified even though the values are not strictly normal. Variance is finite and calculated using corrected sample variance as required for the T-test.\n",
        "\n",
        "Therefore, all requirements for a T-Test of independence and normality are satisfied.\n",
        "\n"
      ]
    },
    {
      "cell_type": "markdown",
      "metadata": {
        "id": "pqD17Eoczuwg"
      },
      "source": [
        "## **Task: Divide your dataset into short-haul flights (distance < 1000), medium-haul flights (distance between 1000 and 2200), and long-haul flights (distance>2200). Perform the same test for all pairs (so 3 pairs) between these three categories.**"
      ]
    },
    {
      "cell_type": "markdown",
      "metadata": {
        "id": "JoPJ_sxPz1GS"
      },
      "source": [
        "### Common Setup"
      ]
    },
    {
      "cell_type": "code",
      "execution_count": null,
      "metadata": {
        "id": "V6ZYmaOgz4Jd"
      },
      "outputs": [],
      "source": [
        "# distance-based segments\n",
        "short_speeds = preprocessed_df[preprocessed_df['totalTravelDistance'] < 1000]['speed']\n",
        "medium_speeds = preprocessed_df[\n",
        "    (preprocessed_df['totalTravelDistance'] >= 1000) &\n",
        "    (preprocessed_df['totalTravelDistance'] <= 2200)\n",
        "]['speed']\n",
        "long_speeds = preprocessed_df[preprocessed_df['totalTravelDistance'] > 2200]['speed']\n",
        "\n",
        "# Cleaning \n",
        "def clean(series):\n",
        "    return series.replace([np.inf, -np.inf], np.nan).dropna()\n",
        "\n",
        "short_speeds = clean(short_speeds)\n",
        "medium_speeds = clean(medium_speeds)\n",
        "long_speeds = clean(long_speeds)\n",
        "\n",
        "segment_speeds = {\n",
        "    \"Short-haul\": short_speeds,\n",
        "    \"Medium-haul\": medium_speeds,\n",
        "    \"Long-haul\": long_speeds\n",
        "}\n",
        "\n",
        "# pairs\n",
        "segment_pairs = [\n",
        "    (\"Short-haul\", \"Medium-haul\"),\n",
        "    (\"Short-haul\", \"Long-haul\"),\n",
        "    (\"Medium-haul\", \"Long-haul\")\n",
        "]\n",
        "\n",
        "# Critical z-value for 2-sided test\n",
        "z_critical = norm.ppf(1 - 0.05/2)"
      ]
    },
    {
      "cell_type": "markdown",
      "metadata": {
        "id": "WPeZsecVz7dX"
      },
      "source": [
        "### Wald’s Test"
      ]
    },
    {
      "cell_type": "code",
      "execution_count": 36,
      "metadata": {
        "colab": {
          "base_uri": "https://localhost:8080/"
        },
        "id": "jLjoZKK4z-Vn",
        "outputId": "201844a2-68de-452c-f1f6-41b74be4a7ed"
      },
      "outputs": [
        {
          "name": "stdout",
          "output_type": "stream",
          "text": [
            "=== Wald’s Test ===\n",
            "Short-haul vs Medium-haul → Wald Stat: -148.2877, Result: Different\n",
            "Short-haul vs Long-haul → Wald Stat: -195.9915, Result: Different\n",
            "Medium-haul vs Long-haul → Wald Stat: -68.3398, Result: Different\n"
          ]
        }
      ],
      "source": [
        "print(\"=== Wald’s Test ===\")\n",
        "for a, b in segment_pairs:\n",
        "    x = segment_speeds[a]\n",
        "    y = segment_speeds[b]\n",
        "    diff = np.mean(x) - np.mean(y)\n",
        "    pooled_var = np.var(x, ddof=1)/len(x) + np.var(y, ddof=1)/len(y)\n",
        "    wald_stat = diff / np.sqrt(pooled_var)\n",
        "    result = \"Different\" if abs(wald_stat) > z_critical else \"Same\"\n",
        "    print(f\"{a} vs {b} → Wald Stat: {wald_stat:.4f}, Result: {result}\")"
      ]
    },
    {
      "cell_type": "markdown",
      "metadata": {
        "id": "abVwn9Pr-mEh"
      },
      "source": [
        "#### Assumptions\n"
      ]
    },
    {
      "cell_type": "code",
      "execution_count": null,
      "metadata": {
        "colab": {
          "base_uri": "https://localhost:8080/"
        },
        "id": "X8qlJXd_-mEh",
        "outputId": "e73badf8-2c84-4682-e48e-feba6cf1eb7e"
      },
      "outputs": [
        {
          "name": "stdout",
          "output_type": "stream",
          "text": [
            "=== Wald’s Test Assumption Check ===\n",
            "Short-haul:\n",
            "  Sample size = 8660\n",
            "  Sample variance = 3057.13\n",
            "  ✓ Large sample size and finite variance — Wald’s assumptions hold.\n",
            "\n",
            "Medium-haul:\n",
            "  Sample size = 4736\n",
            "  Sample variance = 657.00\n",
            "  ✓ Large sample size and finite variance — Wald’s assumptions hold.\n",
            "\n",
            "Long-haul:\n",
            "  Sample size = 2351\n",
            "  Sample variance = 406.55\n",
            "  ✓ Large sample size and finite variance — Wald’s assumptions hold.\n",
            "\n"
          ]
        }
      ],
      "source": [
        "\n",
        "haul_segments = {\n",
        "    \"Short-haul\": short_speeds,\n",
        "    \"Medium-haul\": medium_speeds,\n",
        "    \"Long-haul\": long_speeds\n",
        "}\n",
        "\n",
        "print(\"=== Wald’s Test Assumption Check ===\")\n",
        "for label, speeds in haul_segments.items():\n",
        "    size = len(speeds)\n",
        "    variance = np.var(speeds, ddof=1)\n",
        "    print(f\"{label}:\")\n",
        "    print(f\"  Sample size = {size}\")\n",
        "    print(f\"  Sample variance = {variance:.2f}\")\n",
        "    print(\"  ✓ Large sample size and finite variance — Wald’s assumptions hold.\\n\" if size > 30 and variance > 0 else\n",
        "          \"  ⚠️ Check assumptions: sample may be too small or variance too low.\\n\")"
      ]
    },
    {
      "cell_type": "markdown",
      "metadata": {
        "id": "rjbh8VrM0Adu"
      },
      "source": [
        "### Z-Test"
      ]
    },
    {
      "cell_type": "code",
      "execution_count": 38,
      "metadata": {
        "colab": {
          "base_uri": "https://localhost:8080/"
        },
        "id": "3RCd-bZSz_jG",
        "outputId": "0c915c1d-c5c1-42ca-c16e-04906d7a7f9c"
      },
      "outputs": [
        {
          "name": "stdout",
          "output_type": "stream",
          "text": [
            "=== Z-Test ===\n",
            "Short-haul vs Medium-haul → Z Stat: -148.2982, Result: Different\n",
            "Short-haul vs Long-haul → Z Stat: -196.0128, Result: Different\n",
            "Medium-haul vs Long-haul → Z Stat: -68.3511, Result: Different\n"
          ]
        }
      ],
      "source": [
        "print(\"=== Z-Test ===\")\n",
        "for a, b in segment_pairs:\n",
        "    x = segment_speeds[a]\n",
        "    y = segment_speeds[b]\n",
        "    mean_diff = np.mean(x) - np.mean(y)\n",
        "    var_x = np.var(x, ddof=0)\n",
        "    var_y = np.var(y, ddof=0)\n",
        "    se = np.sqrt(var_x / len(x) + var_y / len(y))\n",
        "    z_stat = (mean_diff) / se\n",
        "    result = \"Different\" if abs(z_stat) > z_critical else \"Same\"\n",
        "    print(f\"{a} vs {b} → Z Stat: {z_stat:.4f}, Result: {result}\")"
      ]
    },
    {
      "cell_type": "markdown",
      "metadata": {
        "id": "QGK3NFR8-mEi"
      },
      "source": [
        "#### Assumptions"
      ]
    },
    {
      "cell_type": "markdown",
      "metadata": {
        "id": "EL_Wze-0-mEi"
      },
      "source": [
        "Based on the Wald’s test assumption checks, we confirmed that the sample size for each of the flight segment pairs (short-haul, medium-haul, and long-haul) is well above 30, satisfying the large sample condition required for the Central Limit Theorem to apply. Additionally, both the sample variance and the population variance (which we approximate using the sample variance) are finite and non-zero across all segments. Since the Z-test assumes known variance and large sample sizes to ensure asymptotic normality, these conditions hold true in our case as well. Therefore, the assumptions for applying the Z-test are satisfied for all segment pairs under consideration.\n"
      ]
    },
    {
      "cell_type": "markdown",
      "metadata": {
        "id": "iBE_PPgS0H-f"
      },
      "source": [
        "### T-Test"
      ]
    },
    {
      "cell_type": "code",
      "execution_count": 39,
      "metadata": {
        "colab": {
          "base_uri": "https://localhost:8080/"
        },
        "id": "DojP9tqqUm1-",
        "outputId": "a95439a3-e29a-4019-ea15-ea89a516adb2"
      },
      "outputs": [
        {
          "name": "stdout",
          "output_type": "stream",
          "text": [
            "=== T-Test ===\n",
            "Short-haul vs Medium-haul → T Stat: -148.2877, Result: Different\n",
            "Short-haul vs Long-haul → T Stat: -195.9915, Result: Different\n",
            "Medium-haul vs Long-haul → T Stat: -68.3398, Result: Different\n"
          ]
        }
      ],
      "source": [
        "print(\"=== T-Test ===\")\n",
        "for a, b in segment_pairs:\n",
        "    x = segment_speeds[a]\n",
        "    y = segment_speeds[b]\n",
        "\n",
        "    n=len(x)\n",
        "    m=len(y)\n",
        "    mean_x = np.mean(x)\n",
        "    mean_y = np.mean(y)\n",
        "\n",
        "    var_x = np.var(x, ddof=1)\n",
        "    var_y = np.var(y, ddof=1)\n",
        "    se = sqrt((var_x / n) + (var_y / m))\n",
        "    t_stat = (mean_x - mean_y) / se\n",
        "\n",
        "    result = \"Different\" if abs(t_stat) > z_critical else \"Same\"\n",
        "    print(f\"{a} vs {b} → T Stat: {t_stat:.4f}, Result: {result}\")"
      ]
    },
    {
      "cell_type": "markdown",
      "metadata": {
        "id": "b5pNY-XwG3Aq"
      },
      "source": [
        "#### Assumptions"
      ]
    },
    {
      "cell_type": "markdown",
      "metadata": {
        "id": "PuFBX3IXE6AL"
      },
      "source": [
        "The sample size for each of the selected airlines—for each of the flight segment pairs (short-haul, medium-haul, and long-haul) is greater than 30 as shown previously, which satisfies the requirement for the Central Limit Theorem to apply. Thus normality is justified even though the values are not strictly normal. Variance is finite and calculated using corrected sample variance as required for the T-test.\n",
        "\n",
        "Therefore, all requirements for a T-Test of independence and normality are satisfied."
      ]
    }
  ],
  "metadata": {
    "colab": {
      "provenance": []
    },
    "kernelspec": {
      "display_name": "Python 3",
      "name": "python3"
    },
    "language_info": {
      "codemirror_mode": {
        "name": "ipython",
        "version": 3
      },
      "file_extension": ".py",
      "mimetype": "text/x-python",
      "name": "python",
      "nbconvert_exporter": "python",
      "pygments_lexer": "ipython3",
      "version": "3.13.2"
    }
  },
  "nbformat": 4,
  "nbformat_minor": 0
}
